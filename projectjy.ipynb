{
 "cells": [
  {
   "cell_type": "markdown",
   "id": "3fbed48f-077c-4611-8c62-c63d94933844",
   "metadata": {},
   "source": [
    "# the title of project is projectjy"
   ]
  },
  {
   "cell_type": "markdown",
   "id": "a152c463-7b49-4cec-bc11-8d162573a05f",
   "metadata": {},
   "source": [
    "## introduction of project : "
   ]
  },
  {
   "cell_type": "markdown",
   "id": "5dfeef5b-56e3-45f3-9e61-6d54ac1fedae",
   "metadata": {},
   "source": [
    "### - here we explain about data science libaries,langues,tools and some python code or jupyter notebook"
   ]
  },
  {
   "cell_type": "markdown",
   "id": "e504df38-6e44-443b-b421-5fe5d67e57b2",
   "metadata": {},
   "source": [
    "### data science langues are : "
   ]
  },
  {
   "cell_type": "markdown",
   "id": "f73f821f-e045-4e92-8b75-32ecbbda0b91",
   "metadata": {},
   "source": [
    "#### - r,python,julia,java,scala and more langues are use for data science"
   ]
  },
  {
   "cell_type": "markdown",
   "id": "331ca193-037a-4ce5-8652-cc2a927caac3",
   "metadata": {},
   "source": [
    "### data science libraries are :"
   ]
  },
  {
   "cell_type": "markdown",
   "id": "24c7b394-fb7a-44fb-9515-57aa98e5f2a6",
   "metadata": {},
   "source": [
    "#### - pytouch,scikit-learn,tensorflow,theano and more libraries use for data science"
   ]
  },
  {
   "cell_type": "markdown",
   "id": "d1242aee-35e8-40ab-b6de-e0122c0e5b74",
   "metadata": {},
   "source": [
    "### table of data scinece tools"
   ]
  },
  {
   "cell_type": "markdown",
   "id": "b3370bed-5372-4aff-beee-51c22613ed45",
   "metadata": {},
   "source": [
    "|data science tools|\n",
    "|----|\n",
    "|sas|\n",
    "|apache spark|\n",
    "|bigml|\n",
    "|matlab|\n",
    "|excel\n",
    "|ggplot2|\n",
    "\n"
   ]
  },
  {
   "cell_type": "markdown",
   "id": "5f1e6830-5e4c-4f5f-bb49-5c865bd8f54b",
   "metadata": {},
   "source": [
    "### introducing arithmetic expression examples"
   ]
  },
  {
   "cell_type": "markdown",
   "id": "5793e388-b043-485b-b88c-82367cf2d76b",
   "metadata": {},
   "source": [
    "### multiply of two numbers : "
   ]
  },
  {
   "cell_type": "code",
   "execution_count": 4,
   "id": "86c65c21-a5b0-40c8-a623-42ba661110f3",
   "metadata": {},
   "outputs": [
    {
     "name": "stdout",
     "output_type": "stream",
     "text": [
      "10\n"
     ]
    }
   ],
   "source": [
    "print(2*5)"
   ]
  },
  {
   "cell_type": "markdown",
   "id": "ccb56beb-9bf6-49e6-85d9-87f043542975",
   "metadata": {},
   "source": [
    "### addition of two numbers :"
   ]
  },
  {
   "cell_type": "code",
   "execution_count": 5,
   "id": "bc387ac5-8c8c-4ce6-9e17-0c338f95a4c6",
   "metadata": {},
   "outputs": [
    {
     "name": "stdout",
     "output_type": "stream",
     "text": [
      "7\n"
     ]
    }
   ],
   "source": [
    "print(2+5)"
   ]
  },
  {
   "cell_type": "markdown",
   "id": "6bec437b-b8bc-4451-a7e4-0c29dfe6e147",
   "metadata": {},
   "source": [
    "### convert minutes to hours code :"
   ]
  },
  {
   "cell_type": "code",
   "execution_count": 6,
   "id": "d7446390-c192-4161-b4bd-cf8ba1918a64",
   "metadata": {},
   "outputs": [
    {
     "name": "stdout",
     "output_type": "stream",
     "text": [
      "2:10\n"
     ]
    }
   ],
   "source": [
    "total_minutes = 130\n",
    "\n",
    "# Get hours with floor division\n",
    "hours = total_minutes // 60\n",
    "\n",
    "# Get additional minutes with modulus\n",
    "minutes = total_minutes % 60\n",
    "\n",
    "# Create time as a string\n",
    "time = \"{}:{}\".format(hours, minutes)\n",
    "\n",
    "print(time)"
   ]
  },
  {
   "cell_type": "markdown",
   "id": "7ba4d3d9-2ef6-4da1-8596-cac0fc2610af",
   "metadata": {},
   "source": [
    "### Objectives of the project : "
   ]
  },
  {
   "cell_type": "markdown",
   "id": "680c9015-19af-4ad0-b1f2-70143292309e",
   "metadata": {},
   "source": [
    "#### - project objectives are :\n",
    "#### - better understanding of the data science langues,libraries,tools and some programing in python \n",
    "#### - and pratical use of the dupyter notebook and its tools"
   ]
  },
  {
   "cell_type": "markdown",
   "id": "f706e936-67a4-4e71-b93f-849f9ff79fe1",
   "metadata": {},
   "source": [
    "##  Author’s name"
   ]
  },
  {
   "cell_type": "markdown",
   "id": "9c195684-46eb-4aff-9191-3a2a4dd12e2f",
   "metadata": {},
   "source": [
    "### lekhraj basetiya"
   ]
  },
  {
   "cell_type": "code",
   "execution_count": null,
   "id": "f4f828ab-59e2-41d2-bf18-c898ac521d2f",
   "metadata": {},
   "outputs": [],
   "source": []
  }
 ],
 "metadata": {
  "kernelspec": {
   "display_name": "Python 3 (ipykernel)",
   "language": "python",
   "name": "python3"
  },
  "language_info": {
   "codemirror_mode": {
    "name": "ipython",
    "version": 3
   },
   "file_extension": ".py",
   "mimetype": "text/x-python",
   "name": "python",
   "nbconvert_exporter": "python",
   "pygments_lexer": "ipython3",
   "version": "3.11.4"
  }
 },
 "nbformat": 4,
 "nbformat_minor": 5
}
